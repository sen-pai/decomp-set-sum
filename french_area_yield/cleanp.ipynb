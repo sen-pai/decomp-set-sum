{
 "cells": [
  {
   "cell_type": "code",
   "execution_count": 1,
   "metadata": {},
   "outputs": [],
   "source": [
    "import pandas as pd\n",
    "import numpy as np"
   ]
  },
  {
   "cell_type": "code",
   "execution_count": 2,
   "metadata": {},
   "outputs": [],
   "source": [
    "rs = pd.read_csv(\"2021-001_Schauberger-et-al_Data_FILTERED/wheat_winter_data_1900-2018_FILTERED.txt\", index_col= False, sep = \";\")"
   ]
  },
  {
   "cell_type": "code",
   "execution_count": 3,
   "metadata": {},
   "outputs": [
    {
     "data": {
      "text/plain": [
       "[[1900],\n",
       " [1901],\n",
       " [1902],\n",
       " [1903],\n",
       " [1904],\n",
       " [1905],\n",
       " [1906],\n",
       " [1907],\n",
       " [1908],\n",
       " [1909],\n",
       " [1910],\n",
       " [1911],\n",
       " [1912],\n",
       " [1913],\n",
       " [1914],\n",
       " [1915],\n",
       " [1916],\n",
       " [1917],\n",
       " [1918],\n",
       " [1919],\n",
       " [1920],\n",
       " [1921],\n",
       " [1922],\n",
       " [1923],\n",
       " [1924],\n",
       " [1925],\n",
       " [1926],\n",
       " [1927],\n",
       " [1928],\n",
       " [1929],\n",
       " [1930],\n",
       " [1931],\n",
       " [1932],\n",
       " [1933],\n",
       " [1934],\n",
       " [1935],\n",
       " [1936],\n",
       " [1937],\n",
       " [1938],\n",
       " [1939],\n",
       " [1940],\n",
       " [1941],\n",
       " [1942],\n",
       " [1943],\n",
       " [1944],\n",
       " [1945],\n",
       " [1946],\n",
       " [1947],\n",
       " [1948],\n",
       " [1949],\n",
       " [1950],\n",
       " [1951],\n",
       " [1952],\n",
       " [1953],\n",
       " [1954],\n",
       " [1955],\n",
       " [1956],\n",
       " [1957],\n",
       " [1958],\n",
       " [1959],\n",
       " [1960],\n",
       " [1961],\n",
       " [1962],\n",
       " [1963],\n",
       " [1964],\n",
       " [1965],\n",
       " [1966],\n",
       " [1967],\n",
       " [1968],\n",
       " [1969],\n",
       " [1970],\n",
       " [1971],\n",
       " [1972],\n",
       " [1973],\n",
       " [1974],\n",
       " [1975],\n",
       " [1976],\n",
       " [1977],\n",
       " [1978],\n",
       " [1979],\n",
       " [1980],\n",
       " [1981],\n",
       " [1982],\n",
       " [1983],\n",
       " [1984],\n",
       " [1985],\n",
       " [1986],\n",
       " [1987],\n",
       " [1988],\n",
       " [1989],\n",
       " [1990],\n",
       " [1991],\n",
       " [1992],\n",
       " [1993],\n",
       " [1994],\n",
       " [1995],\n",
       " [1996],\n",
       " [1997],\n",
       " [1998],\n",
       " [1999],\n",
       " [2000],\n",
       " [2001],\n",
       " [2002],\n",
       " [2003],\n",
       " [2004],\n",
       " [2005],\n",
       " [2006],\n",
       " [2007],\n",
       " [2008],\n",
       " [2009],\n",
       " [2010],\n",
       " [2011],\n",
       " [2012],\n",
       " [2013],\n",
       " [2014],\n",
       " [2015],\n",
       " [2016],\n",
       " [2017],\n",
       " [2018]]"
      ]
     },
     "execution_count": 3,
     "metadata": {},
     "output_type": "execute_result"
    }
   ],
   "source": [
    "[[i] for i in (list(rs[rs.department == \"Ain\"].year))]"
   ]
  },
  {
   "cell_type": "code",
   "execution_count": 4,
   "metadata": {},
   "outputs": [
    {
     "data": {
      "text/plain": [
       "array(['Ain', 'Aisne', 'Allier', 'Alpes_de_Haute_Provence',\n",
       "       'Alpes_Maritimes', 'Ardeche', 'Ardennes', 'Ariege', 'Aube', 'Aude',\n",
       "       'Aveyron', 'Bas_Rhin', 'Bouches_du_Rhone', 'Calvados', 'Cantal',\n",
       "       'Charente', 'Charente_Maritime', 'Cher', 'Correze', 'Corse_du_Sud',\n",
       "       'Cote_d_Or', 'Cotes_d_Armor', 'Creuse', 'Deux_Sevres', 'Dordogne',\n",
       "       'Doubs', 'Drome', 'Essonne', 'Eure', 'Eure_et_Loir', 'Finistere',\n",
       "       'Gard', 'Gers', 'Gironde', 'Haut_Rhin', 'Haute_Corse',\n",
       "       'Haute_Garonne', 'Haute_Loire', 'Haute_Marne', 'Haute_Saone',\n",
       "       'Haute_Savoie', 'Haute_Vienne', 'Hautes_Alpes', 'Hautes_pyrenees',\n",
       "       'Hauts_de_Seine', 'Herault', 'Ille_et_Vilaine', 'Indre',\n",
       "       'Indre_et_Loire', 'Isere', 'Jura', 'Landes', 'Loir_et_Cher',\n",
       "       'Loire', 'Loire_Atlantique', 'Loiret', 'Lot', 'Lot_et_Garonne',\n",
       "       'Lozere', 'Maine_et_Loire', 'Manche', 'Marne', 'Mayenne',\n",
       "       'Meurthe_et_Moselle', 'Meuse', 'Morbihan', 'Moselle', 'Nievre',\n",
       "       'Nord', 'Oise', 'Orne', 'Paris', 'Pas_de_Calais', 'Puy_de_Dome',\n",
       "       'Pyrenees_Atlantiques', 'Pyrenees_Orientales', 'Rhone',\n",
       "       'Saone_et_Loire', 'Sarthe', 'Savoie', 'Seine_et_Marne',\n",
       "       'Seine_Maritime', 'Seine_Saint_Denis', 'Seine_SeineOise', 'Somme',\n",
       "       'Tarn', 'Tarn_et_Garonne', 'Territoire_de_Belfort', 'Val_d_Oise',\n",
       "       'Val_de_Marne', 'Var', 'Vaucluse', 'Vendee', 'Vienne', 'Vosges',\n",
       "       'Yonne', 'Yvelines'], dtype=object)"
      ]
     },
     "execution_count": 4,
     "metadata": {},
     "output_type": "execute_result"
    }
   ],
   "source": [
    "rs['department'].unique()"
   ]
  },
  {
   "cell_type": "code",
   "execution_count": 5,
   "metadata": {},
   "outputs": [],
   "source": [
    "rs = rs[rs['year'] > 2002]\n",
    "rs = rs.dropna()"
   ]
  },
  {
   "cell_type": "code",
   "execution_count": 6,
   "metadata": {},
   "outputs": [],
   "source": [
    "rs[\"Div\"] = rs.production / 10000"
   ]
  },
  {
   "cell_type": "code",
   "execution_count": 8,
   "metadata": {},
   "outputs": [
    {
     "data": {
      "text/plain": [
       "103      12.73113\n",
       "104      22.82640\n",
       "105      18.38652\n",
       "106      22.71960\n",
       "107      19.88030\n",
       "           ...   \n",
       "11531    29.54800\n",
       "11532    32.09610\n",
       "11533    32.49015\n",
       "11535    27.70800\n",
       "11536    25.95400\n",
       "Name: Div, Length: 1396, dtype: float64"
      ]
     },
     "execution_count": 8,
     "metadata": {},
     "output_type": "execute_result"
    }
   ],
   "source": [
    "for i in rs[\"Div\"]:\n",
    "    print(i)"
   ]
  },
  {
   "cell_type": "code",
   "execution_count": 8,
   "metadata": {},
   "outputs": [
    {
     "data": {
      "text/plain": [
       "array(['Alpes_de_Haute_Provence', 'Alpes_Maritimes', 'Ardeche', 'Ariege',\n",
       "       'Aude', 'Aveyron', 'Bouches_du_Rhone', 'Cantal', 'Correze',\n",
       "       'Corse_du_Sud', 'Creuse', 'Dordogne', 'Doubs', 'Drome', 'Gard',\n",
       "       'Gironde', 'Haut_Rhin', 'Haute_Corse', 'Haute_Loire',\n",
       "       'Haute_Savoie', 'Haute_Vienne', 'Hautes_Alpes', 'Hautes_pyrenees',\n",
       "       'Herault', 'Jura', 'Landes', 'Loire', 'Lot', 'Lozere',\n",
       "       'Pyrenees_Atlantiques', 'Pyrenees_Orientales', 'Rhone', 'Savoie',\n",
       "       'Seine_Saint_Denis', 'Tarn_et_Garonne', 'Territoire_de_Belfort',\n",
       "       'Val_de_Marne', 'Var', 'Vaucluse', 'Vosges'], dtype=object)"
      ]
     },
     "execution_count": 8,
     "metadata": {},
     "output_type": "execute_result"
    }
   ],
   "source": [
    "rs[rs['Div'] < 10].department.unique()"
   ]
  },
  {
   "cell_type": "code",
   "execution_count": 12,
   "metadata": {},
   "outputs": [
    {
     "data": {
      "text/html": [
       "<div>\n",
       "<style scoped>\n",
       "    .dataframe tbody tr th:only-of-type {\n",
       "        vertical-align: middle;\n",
       "    }\n",
       "\n",
       "    .dataframe tbody tr th {\n",
       "        vertical-align: top;\n",
       "    }\n",
       "\n",
       "    .dataframe thead th {\n",
       "        text-align: right;\n",
       "    }\n",
       "</style>\n",
       "<table border=\"1\" class=\"dataframe\">\n",
       "  <thead>\n",
       "    <tr style=\"text-align: right;\">\n",
       "      <th></th>\n",
       "      <th>department</th>\n",
       "      <th>year</th>\n",
       "      <th>yield</th>\n",
       "      <th>area</th>\n",
       "      <th>production</th>\n",
       "    </tr>\n",
       "  </thead>\n",
       "  <tbody>\n",
       "    <tr>\n",
       "      <th>103</th>\n",
       "      <td>Ain</td>\n",
       "      <td>2003</td>\n",
       "      <td>5.3</td>\n",
       "      <td>24021.0</td>\n",
       "      <td>127311.3</td>\n",
       "    </tr>\n",
       "    <tr>\n",
       "      <th>104</th>\n",
       "      <td>Ain</td>\n",
       "      <td>2004</td>\n",
       "      <td>8.0</td>\n",
       "      <td>28533.0</td>\n",
       "      <td>228264.0</td>\n",
       "    </tr>\n",
       "    <tr>\n",
       "      <th>105</th>\n",
       "      <td>Ain</td>\n",
       "      <td>2005</td>\n",
       "      <td>6.8</td>\n",
       "      <td>27039.0</td>\n",
       "      <td>183865.2</td>\n",
       "    </tr>\n",
       "    <tr>\n",
       "      <th>106</th>\n",
       "      <td>Ain</td>\n",
       "      <td>2006</td>\n",
       "      <td>7.2</td>\n",
       "      <td>31555.0</td>\n",
       "      <td>227196.0</td>\n",
       "    </tr>\n",
       "    <tr>\n",
       "      <th>107</th>\n",
       "      <td>Ain</td>\n",
       "      <td>2007</td>\n",
       "      <td>6.2</td>\n",
       "      <td>32065.0</td>\n",
       "      <td>198803.0</td>\n",
       "    </tr>\n",
       "    <tr>\n",
       "      <th>108</th>\n",
       "      <td>Ain</td>\n",
       "      <td>2008</td>\n",
       "      <td>6.3</td>\n",
       "      <td>32075.0</td>\n",
       "      <td>202072.5</td>\n",
       "    </tr>\n",
       "    <tr>\n",
       "      <th>109</th>\n",
       "      <td>Ain</td>\n",
       "      <td>2009</td>\n",
       "      <td>7.0</td>\n",
       "      <td>26620.0</td>\n",
       "      <td>186340.0</td>\n",
       "    </tr>\n",
       "    <tr>\n",
       "      <th>110</th>\n",
       "      <td>Ain</td>\n",
       "      <td>2010</td>\n",
       "      <td>7.2</td>\n",
       "      <td>33237.0</td>\n",
       "      <td>239306.4</td>\n",
       "    </tr>\n",
       "    <tr>\n",
       "      <th>111</th>\n",
       "      <td>Ain</td>\n",
       "      <td>2011</td>\n",
       "      <td>7.0</td>\n",
       "      <td>32300.0</td>\n",
       "      <td>226100.0</td>\n",
       "    </tr>\n",
       "    <tr>\n",
       "      <th>112</th>\n",
       "      <td>Ain</td>\n",
       "      <td>2012</td>\n",
       "      <td>6.7</td>\n",
       "      <td>34100.0</td>\n",
       "      <td>228470.0</td>\n",
       "    </tr>\n",
       "    <tr>\n",
       "      <th>113</th>\n",
       "      <td>Ain</td>\n",
       "      <td>2013</td>\n",
       "      <td>6.2</td>\n",
       "      <td>33680.0</td>\n",
       "      <td>208816.0</td>\n",
       "    </tr>\n",
       "    <tr>\n",
       "      <th>114</th>\n",
       "      <td>Ain</td>\n",
       "      <td>2014</td>\n",
       "      <td>7.2</td>\n",
       "      <td>29780.0</td>\n",
       "      <td>214416.0</td>\n",
       "    </tr>\n",
       "    <tr>\n",
       "      <th>115</th>\n",
       "      <td>Ain</td>\n",
       "      <td>2015</td>\n",
       "      <td>7.2</td>\n",
       "      <td>33600.0</td>\n",
       "      <td>241920.0</td>\n",
       "    </tr>\n",
       "    <tr>\n",
       "      <th>117</th>\n",
       "      <td>Ain</td>\n",
       "      <td>2017</td>\n",
       "      <td>7.4</td>\n",
       "      <td>32300.0</td>\n",
       "      <td>239020.0</td>\n",
       "    </tr>\n",
       "    <tr>\n",
       "      <th>118</th>\n",
       "      <td>Ain</td>\n",
       "      <td>2018</td>\n",
       "      <td>6.7</td>\n",
       "      <td>34650.0</td>\n",
       "      <td>232155.0</td>\n",
       "    </tr>\n",
       "  </tbody>\n",
       "</table>\n",
       "</div>"
      ],
      "text/plain": [
       "    department  year  yield     area  production\n",
       "103        Ain  2003    5.3  24021.0    127311.3\n",
       "104        Ain  2004    8.0  28533.0    228264.0\n",
       "105        Ain  2005    6.8  27039.0    183865.2\n",
       "106        Ain  2006    7.2  31555.0    227196.0\n",
       "107        Ain  2007    6.2  32065.0    198803.0\n",
       "108        Ain  2008    6.3  32075.0    202072.5\n",
       "109        Ain  2009    7.0  26620.0    186340.0\n",
       "110        Ain  2010    7.2  33237.0    239306.4\n",
       "111        Ain  2011    7.0  32300.0    226100.0\n",
       "112        Ain  2012    6.7  34100.0    228470.0\n",
       "113        Ain  2013    6.2  33680.0    208816.0\n",
       "114        Ain  2014    7.2  29780.0    214416.0\n",
       "115        Ain  2015    7.2  33600.0    241920.0\n",
       "117        Ain  2017    7.4  32300.0    239020.0\n",
       "118        Ain  2018    6.7  34650.0    232155.0"
      ]
     },
     "execution_count": 12,
     "metadata": {},
     "output_type": "execute_result"
    }
   ],
   "source": [
    "rs[rs.department == \"Ain\"]"
   ]
  },
  {
   "cell_type": "code",
   "execution_count": 13,
   "metadata": {},
   "outputs": [
    {
     "data": {
      "text/plain": [
       "103    127311.3\n",
       "104    228264.0\n",
       "105    183865.2\n",
       "106    227196.0\n",
       "107    198803.0\n",
       "108    202072.5\n",
       "109    186340.0\n",
       "110    239306.4\n",
       "111    226100.0\n",
       "112    228470.0\n",
       "113    208816.0\n",
       "114    214416.0\n",
       "115    241920.0\n",
       "117    239020.0\n",
       "118    232155.0\n",
       "Name: production, dtype: float64"
      ]
     },
     "execution_count": 13,
     "metadata": {},
     "output_type": "execute_result"
    }
   ],
   "source": [
    "rs[rs.department == \"Ain\"].production"
   ]
  },
  {
   "cell_type": "code",
   "execution_count": 23,
   "metadata": {},
   "outputs": [],
   "source": [
    "a = dict()\n",
    "a = a.fromkeys(['e', 'n'], dict.fromkeys([1, 2], 0))"
   ]
  },
  {
   "cell_type": "code",
   "execution_count": 26,
   "metadata": {},
   "outputs": [
    {
     "data": {
      "text/plain": [
       "0"
      ]
     },
     "execution_count": 26,
     "metadata": {},
     "output_type": "execute_result"
    }
   ],
   "source": [
    "a['e'][1]"
   ]
  },
  {
   "cell_type": "code",
   "execution_count": 14,
   "metadata": {},
   "outputs": [
    {
     "data": {
      "text/plain": [
       "103    2003\n",
       "104    2004\n",
       "105    2005\n",
       "106    2006\n",
       "107    2007\n",
       "108    2008\n",
       "109    2009\n",
       "110    2010\n",
       "111    2011\n",
       "112    2012\n",
       "113    2013\n",
       "114    2014\n",
       "115    2015\n",
       "117    2017\n",
       "118    2018\n",
       "Name: year, dtype: int64"
      ]
     },
     "execution_count": 14,
     "metadata": {},
     "output_type": "execute_result"
    }
   ],
   "source": [
    "rs[rs.department == \"Ain\"].year"
   ]
  },
  {
   "cell_type": "code",
   "execution_count": null,
   "metadata": {},
   "outputs": [],
   "source": []
  },
  {
   "cell_type": "code",
   "execution_count": 4,
   "metadata": {},
   "outputs": [],
   "source": [
    "rs.to_csv(\"winter_wheat_filtered_2002.csv\", index= False)"
   ]
  },
  {
   "cell_type": "code",
   "execution_count": null,
   "metadata": {},
   "outputs": [],
   "source": []
  },
  {
   "cell_type": "code",
   "execution_count": 21,
   "metadata": {},
   "outputs": [],
   "source": [
    "import numpy as np    \n",
    "hist, bin_edges = np.histogram([-1, -1, 2, 2, 2, 2, 3], bins = range(-1,5))"
   ]
  },
  {
   "cell_type": "code",
   "execution_count": 22,
   "metadata": {},
   "outputs": [
    {
     "data": {
      "text/plain": [
       "array([2, 0, 0, 4, 1])"
      ]
     },
     "execution_count": 22,
     "metadata": {},
     "output_type": "execute_result"
    }
   ],
   "source": [
    "hist"
   ]
  },
  {
   "cell_type": "code",
   "execution_count": 23,
   "metadata": {},
   "outputs": [
    {
     "data": {
      "text/plain": [
       "array([-1,  0,  1,  2,  3,  4])"
      ]
     },
     "execution_count": 23,
     "metadata": {},
     "output_type": "execute_result"
    }
   ],
   "source": [
    "bin_edges"
   ]
  },
  {
   "cell_type": "code",
   "execution_count": 33,
   "metadata": {},
   "outputs": [
    {
     "data": {
      "text/plain": [
       "array([2, 4, 1, 0])"
      ]
     },
     "execution_count": 33,
     "metadata": {},
     "output_type": "execute_result"
    }
   ],
   "source": [
    "np.delete(np.bincount([1, 1, 2, 2, 2, 2, 3], minlength = 5), [0])"
   ]
  },
  {
   "cell_type": "code",
   "execution_count": 15,
   "metadata": {},
   "outputs": [
    {
     "data": {
      "text/plain": [
       "array([0., 0., 0., 0., 0., 0., 0., 0., 0., 0., 0., 0., 0., 0., 0., 0., 0.,\n",
       "       0., 0., 0., 0., 0., 0., 0.])"
      ]
     },
     "execution_count": 15,
     "metadata": {},
     "output_type": "execute_result"
    }
   ],
   "source": [
    "k.flatten()"
   ]
  },
  {
   "cell_type": "code",
   "execution_count": 17,
   "metadata": {},
   "outputs": [
    {
     "data": {
      "text/plain": [
       "[1, 2, 3, 4, 5, 6, 7, 8, 9]"
      ]
     },
     "execution_count": 17,
     "metadata": {},
     "output_type": "execute_result"
    }
   ],
   "source": [
    "list(range(1,10))"
   ]
  },
  {
   "cell_type": "code",
   "execution_count": null,
   "metadata": {},
   "outputs": [],
   "source": []
  }
 ],
 "metadata": {
  "interpreter": {
   "hash": "8a25e0a7b34cd1d4a1614554bb095d14e8163f5d4081192f81bdf6cdcd9de2f3"
  },
  "kernelspec": {
   "display_name": "Python 3.8.5 ('base')",
   "language": "python",
   "name": "python3"
  },
  "language_info": {
   "codemirror_mode": {
    "name": "ipython",
    "version": 3
   },
   "file_extension": ".py",
   "mimetype": "text/x-python",
   "name": "python",
   "nbconvert_exporter": "python",
   "pygments_lexer": "ipython3",
   "version": "3.8.3"
  },
  "orig_nbformat": 4
 },
 "nbformat": 4,
 "nbformat_minor": 2
}
