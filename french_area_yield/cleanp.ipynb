{
 "cells": [
  {
   "cell_type": "code",
   "execution_count": 1,
   "metadata": {},
   "outputs": [],
   "source": [
    "import pandas as pd\n",
    "import numpy as np"
   ]
  },
  {
   "cell_type": "code",
   "execution_count": 2,
   "metadata": {},
   "outputs": [],
   "source": [
    "rs = pd.read_csv(\"2021-001_Schauberger-et-al_Data_FILTERED/wheat_winter_data_1900-2018_FILTERED.txt\", index_col= False, sep = \";\")"
   ]
  },
  {
   "cell_type": "code",
   "execution_count": 7,
   "metadata": {},
   "outputs": [
    {
     "data": {
      "text/plain": [
       "array(['Ain', 'Aisne', 'Allier', 'Alpes_de_Haute_Provence',\n",
       "       'Alpes_Maritimes', 'Ardeche', 'Ardennes', 'Ariege', 'Aube', 'Aude',\n",
       "       'Aveyron', 'Bas_Rhin', 'Bouches_du_Rhone', 'Calvados', 'Cantal',\n",
       "       'Charente', 'Charente_Maritime', 'Cher', 'Correze', 'Corse_du_Sud',\n",
       "       'Cote_d_Or', 'Cotes_d_Armor', 'Creuse', 'Deux_Sevres', 'Dordogne',\n",
       "       'Doubs', 'Drome', 'Essonne', 'Eure', 'Eure_et_Loir', 'Finistere',\n",
       "       'Gard', 'Gers', 'Gironde', 'Haut_Rhin', 'Haute_Corse',\n",
       "       'Haute_Garonne', 'Haute_Loire', 'Haute_Marne', 'Haute_Saone',\n",
       "       'Haute_Savoie', 'Haute_Vienne', 'Hautes_Alpes', 'Hautes_pyrenees',\n",
       "       'Hauts_de_Seine', 'Herault', 'Ille_et_Vilaine', 'Indre',\n",
       "       'Indre_et_Loire', 'Isere', 'Jura', 'Landes', 'Loir_et_Cher',\n",
       "       'Loire', 'Loire_Atlantique', 'Loiret', 'Lot', 'Lot_et_Garonne',\n",
       "       'Lozere', 'Maine_et_Loire', 'Manche', 'Marne', 'Mayenne',\n",
       "       'Meurthe_et_Moselle', 'Meuse', 'Morbihan', 'Moselle', 'Nievre',\n",
       "       'Nord', 'Oise', 'Orne', 'Paris', 'Pas_de_Calais', 'Puy_de_Dome',\n",
       "       'Pyrenees_Atlantiques', 'Pyrenees_Orientales', 'Rhone',\n",
       "       'Saone_et_Loire', 'Sarthe', 'Savoie', 'Seine_et_Marne',\n",
       "       'Seine_Maritime', 'Seine_Saint_Denis', 'Seine_SeineOise', 'Somme',\n",
       "       'Tarn', 'Tarn_et_Garonne', 'Territoire_de_Belfort', 'Val_d_Oise',\n",
       "       'Val_de_Marne', 'Var', 'Vaucluse', 'Vendee', 'Vienne', 'Vosges',\n",
       "       'Yonne', 'Yvelines'], dtype=object)"
      ]
     },
     "execution_count": 7,
     "metadata": {},
     "output_type": "execute_result"
    }
   ],
   "source": [
    "rs['department'].unique()"
   ]
  },
  {
   "cell_type": "code",
   "execution_count": 3,
   "metadata": {},
   "outputs": [],
   "source": [
    "rs = rs[rs['year'] > 2002]\n",
    "rs = rs.dropna()"
   ]
  },
  {
   "cell_type": "code",
   "execution_count": 4,
   "metadata": {},
   "outputs": [],
   "source": [
    "rs.to_csv(\"winter_wheat_filtered_2002.csv\", index= False)"
   ]
  }
 ],
 "metadata": {
  "interpreter": {
   "hash": "8a25e0a7b34cd1d4a1614554bb095d14e8163f5d4081192f81bdf6cdcd9de2f3"
  },
  "kernelspec": {
   "display_name": "Python 3.8.5 ('base')",
   "language": "python",
   "name": "python3"
  },
  "language_info": {
   "codemirror_mode": {
    "name": "ipython",
    "version": 3
   },
   "file_extension": ".py",
   "mimetype": "text/x-python",
   "name": "python",
   "nbconvert_exporter": "python",
   "pygments_lexer": "ipython3",
   "version": "3.8.3"
  },
  "orig_nbformat": 4
 },
 "nbformat": 4,
 "nbformat_minor": 2
}
