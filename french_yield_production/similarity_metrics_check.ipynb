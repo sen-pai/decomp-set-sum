{
 "cells": [
  {
   "cell_type": "code",
   "execution_count": 1,
   "metadata": {},
   "outputs": [],
   "source": [
    "import pandas as pd \n",
    "import rasterio as rio\n",
    "import numpy as np\n",
    "\n",
    "import glob\n",
    "\n",
    "from joblib import Parallel, delayed\n",
    "\n",
    "\n",
    "import matplotlib.pyplot as plt\n",
    "import seaborn as sns\n",
    "\n",
    "%matplotlib inline\n",
    "sns.set_context('poster')\n",
    "sns.set_color_codes()\n",
    "plot_kwds = {'alpha' : 0.25, 's' : 80, 'linewidths':0}\n",
    "\n",
    "from sklearn.manifold import TSNE\n",
    "import hdbscan\n",
    "from utils.constants import DEPTS, YEARS\n",
    "from sklearn.cluster import KMeans, DBSCAN\n",
    "\n",
    "\n",
    "from scipy.spatial.distance import cdist\n",
    "from scipy.stats import pearsonr\n",
    "\n",
    "\n",
    "import shutil\n",
    "import os\n",
    "\n"
   ]
  },
  {
   "cell_type": "code",
   "execution_count": 2,
   "metadata": {},
   "outputs": [],
   "source": [
    "def nodata_to_zero(array: np.array, no_data: int) -> np.array:\n",
    "    array = np.where(array != no_data, array, 0)\n",
    "    return array\n",
    "\n",
    "\n",
    "def load_merged_subtile(file_name: str, width: int, height: int) -> np.array:\n",
    "    # Channels, H, W\n",
    "    subtile = np.zeros((6, width, height))\n",
    "\n",
    "    with rio.open(file_name) as src:\n",
    "        temp_arr = src.read()\n",
    "        no_data = src.nodata\n",
    "\n",
    "    if no_data != 0:\n",
    "        temp_arr = nodata_to_zero(temp_arr, no_data)\n",
    "\n",
    "    subtile[:, : temp_arr.shape[1], : temp_arr.shape[2]] = temp_arr\n",
    "\n",
    "    return subtile\n",
    "\n",
    "\n",
    "def load_pixel(file_name: str) -> np.array:\n",
    "    with rio.open(file_name) as src:\n",
    "        temp_arr = src.read()\n",
    "        no_data = src.nodata\n",
    "\n",
    "    if no_data != 0:\n",
    "        temp_arr = nodata_to_zero(temp_arr, no_data)\n",
    "    \n",
    "    return temp_arr\n",
    "\n",
    "def check_zero(number):\n",
    "    if np.all(number == 0):\n",
    "        return False  \n",
    "    return True\n",
    "\n",
    "\n",
    "def copy_paste_files(paths, dest_folder):\n",
    "    if os.path.exists(dest_folder):\n",
    "        shutil.rmtree(dest_folder)\n",
    "    os.mkdir(dest_folder)\n",
    "\n",
    "    for path in paths:\n",
    "        shutil.copy(path, dest_folder) \n",
    "\n",
    "\n",
    "def flatten(t):\n",
    "    return [item for sublist in t for item in sublist]\n",
    "\n"
   ]
  },
  {
   "cell_type": "code",
   "execution_count": 3,
   "metadata": {},
   "outputs": [],
   "source": [
    "subDEPTS = ['Aisne']\n",
    "subYEARS = ['2018']\n",
    "\n",
    "def get_glob_paths(dept, year):\n",
    "    return glob.glob(f\"../french_dept_data/{dept}/{year}/split*_1/*\")\n",
    "\n",
    "paths = Parallel(n_jobs=8)(delayed(get_glob_paths)(dept, year) for year in subYEARS for dept in subDEPTS)"
   ]
  },
  {
   "cell_type": "code",
   "execution_count": 4,
   "metadata": {},
   "outputs": [
    {
     "name": "stdout",
     "output_type": "stream",
     "text": [
      "20433\n"
     ]
    }
   ],
   "source": [
    "\n",
    "paths = flatten(paths)\n",
    "print(len(paths))"
   ]
  },
  {
   "cell_type": "code",
   "execution_count": 5,
   "metadata": {},
   "outputs": [],
   "source": [
    "non_empty_pixels = Parallel(n_jobs=8)(delayed(load_pixel)(path) for path in paths)"
   ]
  },
  {
   "cell_type": "code",
   "execution_count": 6,
   "metadata": {},
   "outputs": [],
   "source": [
    "non_zero_paths = []\n",
    "non_empty_pixels_ = []\n",
    "\n",
    "for pixel, path in zip(non_empty_pixels, paths):\n",
    "    if check_zero(pixel):\n",
    "        non_empty_pixels_.append(pixel)\n",
    "        non_zero_paths.append(path)"
   ]
  },
  {
   "cell_type": "code",
   "execution_count": 7,
   "metadata": {},
   "outputs": [
    {
     "data": {
      "text/plain": [
       "11556"
      ]
     },
     "execution_count": 7,
     "metadata": {},
     "output_type": "execute_result"
    }
   ],
   "source": [
    "len(non_zero_paths)"
   ]
  },
  {
   "cell_type": "code",
   "execution_count": 8,
   "metadata": {},
   "outputs": [
    {
     "name": "stderr",
     "output_type": "stream",
     "text": [
      "/home/azureuser/anaconda3/lib/python3.8/site-packages/scipy/stats/stats.py:3845: PearsonRConstantInputWarning: An input array is constant; the correlation coefficent is not defined.\n",
      "  warnings.warn(PearsonRConstantInputWarning())\n"
     ]
    },
    {
     "name": "stdout",
     "output_type": "stream",
     "text": [
      "3273\n",
      "3804\n",
      "391\n",
      "103\n",
      "34\n",
      "664\n",
      "494\n",
      "705\n",
      "252\n",
      "26\n",
      "215\n",
      "79\n",
      "196\n",
      "86\n",
      "10\n",
      "502\n",
      "51\n",
      "274\n",
      "2\n",
      "21\n",
      "22\n",
      "50\n",
      "10\n",
      "16\n",
      "4\n",
      "8\n",
      "11\n",
      "7\n",
      "9\n",
      "2\n",
      "1\n",
      "7\n",
      "1\n",
      "2\n",
      "1\n",
      "19\n",
      "3\n",
      "2\n",
      "10\n",
      "12\n",
      "14\n",
      "19\n",
      "8\n",
      "31\n",
      "8\n",
      "5\n",
      "3\n",
      "4\n",
      "1\n",
      "2\n",
      "5\n",
      "2\n",
      "4\n",
      "6\n",
      "1\n",
      "11\n",
      "5\n",
      "1\n",
      "5\n",
      "1\n",
      "1\n",
      "2\n",
      "4\n",
      "2\n",
      "1\n",
      "1\n",
      "3\n",
      "1\n",
      "1\n",
      "1\n",
      "1\n",
      "2\n",
      "1\n",
      "1\n",
      "3\n",
      "1\n",
      "1\n",
      "3\n",
      "4\n",
      "1\n",
      "1\n",
      "1\n",
      "1\n",
      "2\n"
     ]
    }
   ],
   "source": [
    "pixel_groups = dict()\n",
    "\n",
    "count = 0\n",
    "while len(non_zero_paths) > 1:\n",
    "    count += 1\n",
    "    pixel_group = []\n",
    "    pixel_paths_group = []\n",
    "    pixel_group_indices = []\n",
    "    pixel_a = non_empty_pixels_[0]\n",
    "    for index, (pixel, path) in enumerate(zip(non_empty_pixels_, non_zero_paths)):\n",
    "        if index == 0:\n",
    "            pixel_group.append(pixel)\n",
    "            pixel_paths_group.append(path)\n",
    "            pixel_group_indices.append(index)\n",
    "        else:\n",
    "            if pearsonr(pixel_a.reshape(-1), pixel.reshape(-1))[0] > 0.9:\n",
    "                if cdist(pixel_a.reshape(1,-1), pixel.reshape(1,-1))[0] < 50:\n",
    "                    pixel_group.append(pixel)\n",
    "                    pixel_paths_group.append(path)\n",
    "                    pixel_group_indices.append(index)\n",
    "            \n",
    "    non_zero_paths = [j for i, j in enumerate(non_zero_paths) if i not in pixel_group_indices]\n",
    "    non_empty_pixels_ = [j for i, j in enumerate(non_empty_pixels_) if i not in pixel_group_indices]\n",
    "\n",
    "    print(len(pixel_paths_group))\n",
    "    \n",
    "    pixel_groups[count] = [pixel_group, pixel_paths_group]\n",
    "\n",
    "    # print(len(non_zero_paths))\n",
    "    "
   ]
  },
  {
   "cell_type": "code",
   "execution_count": 9,
   "metadata": {},
   "outputs": [
    {
     "data": {
      "text/plain": [
       "84"
      ]
     },
     "execution_count": 9,
     "metadata": {},
     "output_type": "execute_result"
    }
   ],
   "source": [
    "len(pixel_groups.keys())"
   ]
  },
  {
   "cell_type": "code",
   "execution_count": null,
   "metadata": {},
   "outputs": [],
   "source": []
  }
 ],
 "metadata": {
  "interpreter": {
   "hash": "bfe512e5b4f69ebed172c585cca70fecc3c02411a622d155f4ffd816fba62633"
  },
  "kernelspec": {
   "display_name": "Python 3.8.3 ('base')",
   "language": "python",
   "name": "python3"
  },
  "language_info": {
   "codemirror_mode": {
    "name": "ipython",
    "version": 3
   },
   "file_extension": ".py",
   "mimetype": "text/x-python",
   "name": "python",
   "nbconvert_exporter": "python",
   "pygments_lexer": "ipython3",
   "version": "3.8.3"
  },
  "orig_nbformat": 4
 },
 "nbformat": 4,
 "nbformat_minor": 2
}
