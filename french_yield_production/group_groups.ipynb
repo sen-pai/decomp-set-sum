{
 "cells": [
  {
   "cell_type": "code",
   "execution_count": 1,
   "metadata": {},
   "outputs": [],
   "source": [
    "import pickle \n",
    "import numpy as np \n",
    "\n",
    "from scipy.spatial.distance import cdist\n",
    "from scipy.stats import pearsonr\n",
    "\n",
    "import copy\n"
   ]
  },
  {
   "cell_type": "code",
   "execution_count": 2,
   "metadata": {},
   "outputs": [],
   "source": [
    "with open('../french_dept_data/Ain/2002/Ain_2002_groups/Ain_2002_groups.pkl', 'rb') as f:\n",
    "    ain_2002 = pickle.load(f)\n",
    "\n",
    "with open('../french_dept_data/Ain/2003/Ain_2003_groups/Ain_2003_groups.pkl', 'rb') as f:\n",
    "    ain_2003 = pickle.load(f)\n"
   ]
  },
  {
   "cell_type": "code",
   "execution_count": 3,
   "metadata": {},
   "outputs": [
    {
     "data": {
      "text/plain": [
       "dict_keys([1, 2, 3, 4, 5, 6, 7, 8, 9, 10, 11, 12, 13, 14, 15, 16, 17, 18, 19, 20, 21, 22, 23, 24, 25, 26, 27, 28, 29, 30, 31, 32, 33, 34, 35, 36, 37, 38, 39, 40, 41, 42, 43, 44, 45, 46, 47, 48, 49, 50, 51, 52, 53, 54, 55, 56, 57, 58, 59, 60, 61, 62, 63, 64, 65, 66, 67, 68, 69, 70, 71, 72, 73, 74, 75, 76, 77, 78, 79, 80, 81, 82, 83, 84, 85, 86, 87, 88, 89, 90, 91, 92, 93, 94, 95, 96, 97, 98, 99, 100, 101, 102, 103, 104, 105, 106, 107, 108, 109, 110, 111, 112, 113, 114, 115, 116, 117, 118, 119, 120, 121, 122, 123, 124, 125, 126, 127, 128, 129, 130, 131, 132, 133, 134, 135, 136, 137, 138, 139, 140, 141, 142, 143, 144, 145, 146, 147, 148, 149, 150, 151, 152, 153, 154, 155, 156, 157, 158, 159, 160, 161, 162, 163, 164, 165, 166, 167, 168, 169, 170, 171, 172, 173, 174, 175, 176, 177, 178, 179, 180, 181, 182, 183, 184, 185, 186, 187, 188, 189, 190, 191, 192, 193, 194, 195, 196, 197, 198, 199, 200, 201, 202, 203, 204, 205, 206, 207, 208, 209, 210, 211, 212, 213, 214, 215, 216, 217, 218, 219, 220, 221, 222, 223, 224, 225, 226, 227, 228, 229, 230, 231, 232, 233, 234, 235, 236, 237, 238, 239, 240, 241, 242, 243, 244, 245, 246, 247, 248, 249, 250, 251, 252, 253, 254, 255, 256, 257, 258, 259, 260, 261, 262, 263, 264, 265, 266, 267, 268, 269, 270, 271])"
      ]
     },
     "execution_count": 3,
     "metadata": {},
     "output_type": "execute_result"
    }
   ],
   "source": [
    "ain_2002.keys()"
   ]
  },
  {
   "cell_type": "code",
   "execution_count": 4,
   "metadata": {},
   "outputs": [
    {
     "data": {
      "text/plain": [
       "dict_keys([1, 2, 3, 4, 5, 6, 7, 8, 9, 10, 11, 12, 13, 14, 15, 16, 17, 18, 19, 20, 21, 22, 23, 24, 25, 26, 27, 28, 29, 30, 31, 32, 33, 34, 35, 36, 37, 38, 39, 40, 41, 42, 43, 44, 45, 46, 47, 48, 49, 50, 51, 52, 53, 54, 55, 56, 57, 58, 59, 60, 61, 62, 63, 64, 65, 66, 67, 68, 69, 70, 71, 72, 73, 74, 75, 76, 77, 78, 79, 80, 81, 82, 83, 84, 85, 86, 87, 88, 89, 90, 91, 92, 93, 94, 95, 96, 97, 98, 99, 100, 101, 102, 103, 104, 105, 106, 107, 108, 109, 110, 111, 112, 113, 114, 115, 116, 117, 118, 119, 120, 121, 122, 123, 124, 125, 126, 127, 128, 129, 130, 131, 132, 133, 134, 135, 136, 137, 138, 139, 140, 141, 142, 143, 144, 145, 146, 147, 148, 149, 150, 151, 152, 153, 154, 155, 156, 157, 158, 159, 160, 161, 162, 163, 164, 165, 166, 167, 168, 169, 170, 171, 172, 173, 174, 175, 176, 177, 178, 179, 180, 181, 182, 183, 184, 185, 186, 187, 188, 189, 190, 191, 192, 193, 194, 195, 196, 197, 198, 199, 200, 201, 202, 203, 204, 205, 206, 207, 208, 209, 210, 211, 212, 213, 214, 215, 216, 217, 218, 219, 220, 221, 222, 223, 224, 225, 226, 227, 228, 229, 230, 231, 232, 233, 234, 235, 236, 237, 238, 239, 240, 241, 242, 243, 244])"
      ]
     },
     "execution_count": 4,
     "metadata": {},
     "output_type": "execute_result"
    }
   ],
   "source": [
    "ain_2003.keys()"
   ]
  },
  {
   "cell_type": "code",
   "execution_count": 17,
   "metadata": {},
   "outputs": [
    {
     "name": "stderr",
     "output_type": "stream",
     "text": [
      "/home/azureuser/anaconda3/lib/python3.8/site-packages/scipy/stats/stats.py:3845: PearsonRConstantInputWarning: An input array is constant; the correlation coefficent is not defined.\n",
      "  warnings.warn(PearsonRConstantInputWarning())\n"
     ]
    },
    {
     "name": "stdout",
     "output_type": "stream",
     "text": [
      "138\n",
      "yea\n",
      "yea\n",
      "yea\n",
      "yea\n",
      "yea\n",
      "yea\n",
      "yea\n",
      "yea\n",
      "yea\n",
      "yea\n",
      "yea\n",
      "yea\n",
      "yea\n",
      "yea\n",
      "yea\n",
      "yea\n",
      "yea\n",
      "yea\n",
      "yea\n",
      "yea\n",
      "yea\n",
      "yea\n",
      "yea\n",
      "yea\n",
      "yea\n",
      "yea\n",
      "yea\n",
      "yea\n",
      "yea\n",
      "yea\n",
      "yea\n",
      "yea\n",
      "yea\n",
      "yea\n",
      "yea\n",
      "yea\n",
      "yea\n",
      "yea\n",
      "yea\n",
      "yea\n",
      "yea\n",
      "yea\n",
      "yea\n",
      "yea\n",
      "yea\n",
      "yea\n",
      "yea\n",
      "yea\n",
      "yea\n",
      "yea\n",
      "yea\n",
      "yea\n",
      "yea\n",
      "yea\n",
      "yea\n",
      "yea\n",
      "yea\n",
      "yea\n",
      "yea\n",
      "yea\n",
      "yea\n",
      "yea\n",
      "yea\n",
      "yea\n",
      "yea\n",
      "yea\n",
      "yea\n",
      "yea\n",
      "yea\n",
      "yea\n",
      "yea\n",
      "yea\n",
      "yea\n",
      "yea\n",
      "yea\n",
      "yea\n",
      "yea\n",
      "yea\n",
      "yea\n",
      "yea\n",
      "yea\n",
      "yea\n",
      "yea\n",
      "yea\n",
      "yea\n",
      "yea\n",
      "yea\n",
      "yea\n",
      "yea\n",
      "yea\n",
      "yea\n",
      "yea\n",
      "yea\n",
      "yea\n",
      "yea\n",
      "yea\n",
      "yea\n",
      "yea\n",
      "yea\n",
      "yea\n",
      "yea\n",
      "yea\n",
      "yea\n",
      "yea\n",
      "yea\n",
      "yea\n",
      "yea\n",
      "yea\n",
      "yea\n",
      "yea\n",
      "yea\n",
      "yea\n",
      "yea\n",
      "yea\n",
      "yea\n",
      "yea\n",
      "yea\n",
      "yea\n",
      "yea\n",
      "yea\n",
      "yea\n",
      "yea\n",
      "yea\n",
      "yea\n",
      "yea\n",
      "yea\n",
      "yea\n",
      "yea\n",
      "yea\n",
      "yea\n",
      "yea\n",
      "yea\n",
      "yea\n",
      "yea\n",
      "yea\n",
      "yea\n",
      "yea\n",
      "yea\n",
      "yea\n",
      "yea\n",
      "yea\n",
      "yea\n",
      "yea\n",
      "yea\n",
      "yea\n",
      "yea\n",
      "yea\n",
      "yea\n",
      "yea\n",
      "yea\n",
      "yea\n",
      "yea\n",
      "yea\n",
      "yea\n",
      "yea\n",
      "yea\n",
      "yea\n",
      "yea\n",
      "yea\n",
      "yea\n",
      "yea\n",
      "yea\n",
      "yea\n",
      "yea\n",
      "yea\n",
      "yea\n",
      "yea\n",
      "yea\n",
      "yea\n",
      "yea\n",
      "yea\n",
      "yea\n",
      "yea\n",
      "yea\n",
      "yea\n",
      "yea\n",
      "yea\n",
      "yea\n",
      "yea\n",
      "yea\n",
      "yea\n",
      "yea\n",
      "yea\n",
      "yea\n"
     ]
    }
   ],
   "source": [
    "super_group = dict()\n",
    "\n",
    "merged_groups_b = []\n",
    "merged_groups_a = []\n",
    "count = 1\n",
    "for i, group_a in enumerate(ain_2002):\n",
    "    if i not in merged_groups_a:\n",
    "        for j, group_b in enumerate(ain_2003):\n",
    "            if j not in merged_groups_b:\n",
    "                # print(group_a[0][0].reshape(-1), group_b[0][0].reshape(-1))\n",
    "                if pearsonr(ain_2002[group_a][0][0].reshape(-1), ain_2003[group_b][0][0].reshape(-1))[0] > 0.9:\n",
    "                    if cdist(ain_2002[group_a][0][0].reshape(1,-1), ain_2003[group_b][0][0].reshape(1,-1))[0] < 50:\n",
    "                        # super_group[count] = []\n",
    "\n",
    "                        list_pixels = copy.deepcopy(ain_2002[group_a][0])\n",
    "                        list_pixels.extend(ain_2003[group_b][0])\n",
    "\n",
    "                        list_filenames = copy.deepcopy(ain_2002[group_a][1])\n",
    "                        list_filenames.extend(ain_2003[group_b][1])\n",
    "\n",
    "                        super_group[count] = [list_pixels, list_filenames]\n",
    "                        # print(type(list_filenames))\n",
    "\n",
    "                        # super_group[count] = [ain_2002[group_a][0].extend(ain_2003[group_b][0]), ain_2002[group_a][1].extend(ain_2003[group_b][1])]\n",
    "                        # print(type(copy.deepcopy(ain_2002[group_a][0]).extend(copy.deepcopy(ain_2003[group_b][0]))))\n",
    "                        count += 1\n",
    "                        merged_groups_a.append(i)\n",
    "                        merged_groups_b.append(j)\n",
    "\n",
    "\n",
    "print(len(merged_groups_a))\n",
    "\n",
    "for i, group_a in enumerate(ain_2002):\n",
    "    if i not in merged_groups_a:\n",
    "        super_group[count] = ain_2002[group_a]\n",
    "        count += 1\n",
    "\n",
    "for i, group_b in enumerate(ain_2003):\n",
    "    if i not in merged_groups_b:\n",
    "        super_group[count] = ain_2003[group_b]\n",
    "        count += 1\n",
    "\n",
    "\n"
   ]
  },
  {
   "cell_type": "code",
   "execution_count": 13,
   "metadata": {},
   "outputs": [
    {
     "data": {
      "text/plain": [
       "numpy.ndarray"
      ]
     },
     "execution_count": 13,
     "metadata": {},
     "output_type": "execute_result"
    }
   ],
   "source": [
    "type(ain_2003[1][0][0])"
   ]
  },
  {
   "cell_type": "code",
   "execution_count": 12,
   "metadata": {},
   "outputs": [
    {
     "ename": "KeyError",
     "evalue": "343",
     "output_type": "error",
     "traceback": [
      "\u001b[0;31m---------------------------------------------------------------------------\u001b[0m",
      "\u001b[0;31mKeyError\u001b[0m                                  Traceback (most recent call last)",
      "\u001b[0;32m<ipython-input-12-268a909b90c8>\u001b[0m in \u001b[0;36m<module>\u001b[0;34m\u001b[0m\n\u001b[0;32m----> 1\u001b[0;31m \u001b[0mlen\u001b[0m\u001b[0;34m(\u001b[0m\u001b[0msuper_group\u001b[0m\u001b[0;34m[\u001b[0m\u001b[0;36m343\u001b[0m\u001b[0;34m]\u001b[0m\u001b[0;34m[\u001b[0m\u001b[0;36m0\u001b[0m\u001b[0;34m]\u001b[0m\u001b[0;34m)\u001b[0m\u001b[0;34m\u001b[0m\u001b[0;34m\u001b[0m\u001b[0m\n\u001b[0m",
      "\u001b[0;31mKeyError\u001b[0m: 343"
     ]
    }
   ],
   "source": [
    "len(super_group[343][0])"
   ]
  },
  {
   "cell_type": "code",
   "execution_count": 15,
   "metadata": {},
   "outputs": [
    {
     "data": {
      "text/plain": [
       "139"
      ]
     },
     "execution_count": 15,
     "metadata": {},
     "output_type": "execute_result"
    }
   ],
   "source": [
    "len(super_group.keys())"
   ]
  },
  {
   "cell_type": "code",
   "execution_count": null,
   "metadata": {},
   "outputs": [],
   "source": []
  }
 ],
 "metadata": {
  "interpreter": {
   "hash": "bfe512e5b4f69ebed172c585cca70fecc3c02411a622d155f4ffd816fba62633"
  },
  "kernelspec": {
   "display_name": "Python 3.8.3 ('base')",
   "language": "python",
   "name": "python3"
  },
  "language_info": {
   "codemirror_mode": {
    "name": "ipython",
    "version": 3
   },
   "file_extension": ".py",
   "mimetype": "text/x-python",
   "name": "python",
   "nbconvert_exporter": "python",
   "pygments_lexer": "ipython3",
   "version": "3.8.3"
  },
  "orig_nbformat": 4
 },
 "nbformat": 4,
 "nbformat_minor": 2
}
